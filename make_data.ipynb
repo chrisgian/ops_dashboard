{
 "cells": [
  {
   "cell_type": "code",
   "execution_count": 1,
   "metadata": {},
   "outputs": [
    {
     "name": "stderr",
     "output_type": "stream",
     "text": [
      "/Library/Frameworks/Python.framework/Versions/3.6/lib/python3.6/importlib/_bootstrap.py:219: RuntimeWarning: numpy.dtype size changed, may indicate binary incompatibility. Expected 96, got 88\n",
      "  return f(*args, **kwds)\n"
     ]
    }
   ],
   "source": [
    "import pandas as pd\n",
    "import numpy as np\n",
    "data = {\n",
    "    'value2':np.random.randint(low = 1, high = 100, size = 100),\n",
    "    'value1':np.random.randint(low = 1, high = 100, size = 100),\n",
    "    'group':np.random.choice(['a','b','c'],100),\n",
    "    'date':pd.date_range(start = pd.datetime.now(), periods = 100).date\n",
    "}\n",
    "data = pd.DataFrame(data).set_index('date')\n",
    "data.to_csv('./data.csv')"
   ]
  },
  {
   "cell_type": "code",
   "execution_count": 2,
   "metadata": {},
   "outputs": [],
   "source": [
    "\n",
    "# -------- data --------- #\n",
    "data_in = pd.read_csv('./data.csv')\n",
    "graph_1_data = data_in.groupby('group')[['value1']].sum().reset_index()\n",
    "\n",
    "viz1_x = graph_1_data['group'].tolist()\n",
    "viz1_y = graph_1_data['value1'].tolist()\n",
    "\n",
    "data = [\n",
    "    {'x': viz1_x, 'y': viz1_y, 'type': 'bar', 'name': 'SF'},\n",
    "    {'x': viz1_x, 'y': viz1_y, 'type': 'bar', 'name': 'm'}\n",
    "]\n",
    "\n",
    "\n",
    "def update_figure(selected_group):\n",
    "    filtered_df = data_in[data_in.group == selected_group]\n",
    "    traces = []\n",
    "    for i in filtered_df.group.unique():\n",
    "        df_by_group = filtered_df[filtered_df['group'] == i]\n",
    "        traces.append(dict(\n",
    "            x=df_by_group['value2'],\n",
    "            y=df_by_group['value1'],\n",
    "            text=df_by_group['group'],\n",
    "            mode='markers',\n",
    "            opacity=0.7,\n",
    "            marker={\n",
    "                'size': 15,\n",
    "                'line': {'width': 0.5, 'color': 'white'}\n",
    "            },\n",
    "            name=i\n",
    "        ))\n",
    "\n",
    "    return {\n",
    "        'data': traces,\n",
    "        'layout': dict(\n",
    "            xaxis={'type': 'log', 'title': 'GDP Per Capita',\n",
    "                   'range': [1, 100]},\n",
    "            yaxis={'title': 'Life Expectancy', 'range': [1, 100]},\n",
    "            margin={'l': 40, 'b': 40, 't': 10, 'r': 10},\n",
    "            legend={'x': 0, 'y': 1},\n",
    "            hovermode='closest',\n",
    "            transition={'duration': 500},\n",
    "        )\n",
    "    }\n",
    "\n"
   ]
  },
  {
   "cell_type": "code",
   "execution_count": 10,
   "metadata": {},
   "outputs": [
    {
     "name": "stdout",
     "output_type": "stream",
     "text": [
      "hi\n"
     ]
    }
   ],
   "source": [
    "if len([]) == 0:\n",
    "    print(\"hi\")"
   ]
  },
  {
   "cell_type": "code",
   "execution_count": 3,
   "metadata": {},
   "outputs": [
    {
     "data": {
      "text/plain": [
       "{'data': [{'x': 1     87\n",
       "   3     72\n",
       "   5      6\n",
       "   9     23\n",
       "   10    63\n",
       "   16     4\n",
       "   21    46\n",
       "   22    67\n",
       "   23    21\n",
       "   24    73\n",
       "   32    25\n",
       "   34    34\n",
       "   37    25\n",
       "   47    95\n",
       "   51     7\n",
       "   52    36\n",
       "   53    69\n",
       "   54    63\n",
       "   63    51\n",
       "   65    55\n",
       "   66    95\n",
       "   74    81\n",
       "   80    22\n",
       "   87    61\n",
       "   90    55\n",
       "   92    61\n",
       "   99    59\n",
       "   Name: value2, dtype: int64, 'y': 1     79\n",
       "   3     40\n",
       "   5     78\n",
       "   9     13\n",
       "   10    40\n",
       "   16    17\n",
       "   21     9\n",
       "   22    67\n",
       "   23    40\n",
       "   24    42\n",
       "   32    60\n",
       "   34    51\n",
       "   37    10\n",
       "   47    41\n",
       "   51    15\n",
       "   52    31\n",
       "   53    80\n",
       "   54    19\n",
       "   63     3\n",
       "   65    72\n",
       "   66    34\n",
       "   74    48\n",
       "   80    70\n",
       "   87    46\n",
       "   90    82\n",
       "   92    74\n",
       "   99     1\n",
       "   Name: value1, dtype: int64, 'text': 1     c\n",
       "   3     c\n",
       "   5     c\n",
       "   9     c\n",
       "   10    c\n",
       "   16    c\n",
       "   21    c\n",
       "   22    c\n",
       "   23    c\n",
       "   24    c\n",
       "   32    c\n",
       "   34    c\n",
       "   37    c\n",
       "   47    c\n",
       "   51    c\n",
       "   52    c\n",
       "   53    c\n",
       "   54    c\n",
       "   63    c\n",
       "   65    c\n",
       "   66    c\n",
       "   74    c\n",
       "   80    c\n",
       "   87    c\n",
       "   90    c\n",
       "   92    c\n",
       "   99    c\n",
       "   Name: group, dtype: object, 'mode': 'markers', 'opacity': 0.7, 'marker': {'size': 15,\n",
       "    'line': {'width': 0.5, 'color': 'white'}}, 'name': 'c'}],\n",
       " 'layout': {'xaxis': {'type': 'log',\n",
       "   'title': 'GDP Per Capita',\n",
       "   'range': [1, 100]},\n",
       "  'yaxis': {'title': 'Life Expectancy', 'range': [1, 100]},\n",
       "  'margin': {'l': 40, 'b': 40, 't': 10, 'r': 10},\n",
       "  'legend': {'x': 0, 'y': 1},\n",
       "  'hovermode': 'closest',\n",
       "  'transition': {'duration': 500}}}"
      ]
     },
     "execution_count": 3,
     "metadata": {},
     "output_type": "execute_result"
    }
   ],
   "source": [
    "update_figure(selected_group='c')"
   ]
  }
 ],
 "metadata": {
  "kernelspec": {
   "display_name": "dash_app",
   "language": "python",
   "name": "dash_app"
  },
  "language_info": {
   "codemirror_mode": {
    "name": "ipython",
    "version": 3
   },
   "file_extension": ".py",
   "mimetype": "text/x-python",
   "name": "python",
   "nbconvert_exporter": "python",
   "pygments_lexer": "ipython3",
   "version": "3.6.6"
  }
 },
 "nbformat": 4,
 "nbformat_minor": 4
}
